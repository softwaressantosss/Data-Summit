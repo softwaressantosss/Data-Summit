{
  "cells": [
    {
      "cell_type": "markdown",
      "id": "10e04346",
      "metadata": {
        "id": "10e04346"
      },
      "source": [
        "# Primeiros passos no SQL"
      ]
    },
    {
      "cell_type": "markdown",
      "id": "df9633d1",
      "metadata": {
        "id": "df9633d1"
      },
      "source": [
        "Treinamento de SQL básico para o 2º Data Summit Honda"
      ]
    },
    {
      "cell_type": "markdown",
      "id": "9dc92d35",
      "metadata": {
        "id": "9dc92d35"
      },
      "source": [
        "### *Instalando pacotes/bibliotecas do Python que iremos precisar*"
      ]
    },
    {
      "cell_type": "code",
      "execution_count": 1,
      "id": "a3fe6a64",
      "metadata": {
        "collapsed": true,
        "id": "a3fe6a64",
        "outputId": "d3a04412-f719-450f-9b2d-bd80da853faf",
        "colab": {
          "base_uri": "https://localhost:8080/"
        }
      },
      "outputs": [
        {
          "output_type": "stream",
          "name": "stdout",
          "text": [
            "Looking in indexes: https://pypi.org/simple, https://us-python.pkg.dev/colab-wheels/public/simple/\n",
            "Requirement already satisfied: pandas in /usr/local/lib/python3.7/dist-packages (1.3.5)\n",
            "Requirement already satisfied: python-dateutil>=2.7.3 in /usr/local/lib/python3.7/dist-packages (from pandas) (2.8.2)\n",
            "Requirement already satisfied: numpy>=1.17.3 in /usr/local/lib/python3.7/dist-packages (from pandas) (1.21.6)\n",
            "Requirement already satisfied: pytz>=2017.3 in /usr/local/lib/python3.7/dist-packages (from pandas) (2022.1)\n",
            "Requirement already satisfied: six>=1.5 in /usr/local/lib/python3.7/dist-packages (from python-dateutil>=2.7.3->pandas) (1.15.0)\n"
          ]
        }
      ],
      "source": [
        "pip install pandas"
      ]
    },
    {
      "cell_type": "code",
      "execution_count": 2,
      "id": "3e9561b3",
      "metadata": {
        "collapsed": true,
        "id": "3e9561b3",
        "outputId": "c1c62f1c-28ea-47c3-9553-4714c837b4d7",
        "colab": {
          "base_uri": "https://localhost:8080/"
        }
      },
      "outputs": [
        {
          "output_type": "stream",
          "name": "stdout",
          "text": [
            "Looking in indexes: https://pypi.org/simple, https://us-python.pkg.dev/colab-wheels/public/simple/\n",
            "Collecting pandasql\n",
            "  Downloading pandasql-0.7.3.tar.gz (26 kB)\n",
            "Requirement already satisfied: numpy in /usr/local/lib/python3.7/dist-packages (from pandasql) (1.21.6)\n",
            "Requirement already satisfied: pandas in /usr/local/lib/python3.7/dist-packages (from pandasql) (1.3.5)\n",
            "Requirement already satisfied: sqlalchemy in /usr/local/lib/python3.7/dist-packages (from pandasql) (1.4.39)\n",
            "Requirement already satisfied: python-dateutil>=2.7.3 in /usr/local/lib/python3.7/dist-packages (from pandas->pandasql) (2.8.2)\n",
            "Requirement already satisfied: pytz>=2017.3 in /usr/local/lib/python3.7/dist-packages (from pandas->pandasql) (2022.1)\n",
            "Requirement already satisfied: six>=1.5 in /usr/local/lib/python3.7/dist-packages (from python-dateutil>=2.7.3->pandas->pandasql) (1.15.0)\n",
            "Requirement already satisfied: importlib-metadata in /usr/local/lib/python3.7/dist-packages (from sqlalchemy->pandasql) (4.12.0)\n",
            "Requirement already satisfied: greenlet!=0.4.17 in /usr/local/lib/python3.7/dist-packages (from sqlalchemy->pandasql) (1.1.2)\n",
            "Requirement already satisfied: typing-extensions>=3.6.4 in /usr/local/lib/python3.7/dist-packages (from importlib-metadata->sqlalchemy->pandasql) (4.1.1)\n",
            "Requirement already satisfied: zipp>=0.5 in /usr/local/lib/python3.7/dist-packages (from importlib-metadata->sqlalchemy->pandasql) (3.8.1)\n",
            "Building wheels for collected packages: pandasql\n",
            "  Building wheel for pandasql (setup.py) ... \u001b[?25l\u001b[?25hdone\n",
            "  Created wheel for pandasql: filename=pandasql-0.7.3-py3-none-any.whl size=26784 sha256=916ddee7d1b4ac4eca442d5b0aa5dfee91aa655e92cb87b61ee3c96198494185\n",
            "  Stored in directory: /root/.cache/pip/wheels/5c/4b/ec/41f4e116c8053c3654e2c2a47c62b4fca34cc67ef7b55deb7f\n",
            "Successfully built pandasql\n",
            "Installing collected packages: pandasql\n",
            "Successfully installed pandasql-0.7.3\n"
          ]
        }
      ],
      "source": [
        "pip install pandasql"
      ]
    },
    {
      "cell_type": "markdown",
      "id": "33d47b06",
      "metadata": {
        "id": "33d47b06"
      },
      "source": [
        "### *Importando as bibliotecas*"
      ]
    },
    {
      "cell_type": "code",
      "execution_count": 31,
      "id": "b5030468",
      "metadata": {
        "id": "b5030468"
      },
      "outputs": [],
      "source": [
        "import pandas as pd\n",
        "import pandasql as ps\n",
        "from pandasql import sqldf\n",
        "from matplotlib.collections import EventCollection\n",
        "import numpy as np\n",
        "import matplotlib.pyplot as plt"
      ]
    },
    {
      "cell_type": "markdown",
      "id": "721c92f0",
      "metadata": {
        "id": "721c92f0"
      },
      "source": [
        "### *Lendo o CSV*"
      ]
    },
    {
      "cell_type": "markdown",
      "id": "9e633884",
      "metadata": {
        "id": "9e633884"
      },
      "source": [
        "Uma base que estamos lendo da internet, o repositório é do projeto do Pandas no GitHub e a base é utilizada para exercícios. \\\n",
        "Esta base possiu informações de valores gastos em um restaurante"
      ]
    },
    {
      "cell_type": "code",
      "execution_count": 14,
      "id": "29c73917",
      "metadata": {
        "id": "29c73917"
      },
      "outputs": [],
      "source": [
        "base = (\"https://raw.githubusercontent.com/pandas-dev/pandas/main/pandas/tests/io/data/csv/tips.csv\")"
      ]
    },
    {
      "cell_type": "markdown",
      "id": "c288b736",
      "metadata": {
        "id": "c288b736"
      },
      "source": [
        "### *Convertendo o CSV em um Data Frame*"
      ]
    },
    {
      "cell_type": "code",
      "execution_count": 15,
      "id": "1a6e55e3",
      "metadata": {
        "id": "1a6e55e3"
      },
      "outputs": [],
      "source": [
        "tips = pd.read_csv(base)"
      ]
    },
    {
      "cell_type": "markdown",
      "id": "84463ceb",
      "metadata": {
        "id": "84463ceb"
      },
      "source": [
        "# 1º Query - Verificar a quantidade total de registros"
      ]
    },
    {
      "cell_type": "code",
      "execution_count": null,
      "id": "9845725b",
      "metadata": {
        "id": "9845725b"
      },
      "outputs": [],
      "source": [
        "query1 = \"select count(*) as qtd_linhas from tips\""
      ]
    },
    {
      "cell_type": "code",
      "execution_count": null,
      "id": "348570f1",
      "metadata": {
        "id": "348570f1"
      },
      "outputs": [],
      "source": [
        "sqldf(query1)"
      ]
    },
    {
      "cell_type": "markdown",
      "id": "c76e929a",
      "metadata": {
        "id": "c76e929a"
      },
      "source": [
        "# 2º Query - Seleciona os 10 primeiros registros"
      ]
    },
    {
      "cell_type": "code",
      "execution_count": null,
      "id": "2da5494f",
      "metadata": {
        "id": "2da5494f"
      },
      "outputs": [],
      "source": [
        "query2 = \"select * from tips limit 10\""
      ]
    },
    {
      "cell_type": "code",
      "execution_count": null,
      "id": "4ac89000",
      "metadata": {
        "id": "4ac89000"
      },
      "outputs": [],
      "source": [
        "sqldf(query2)"
      ]
    },
    {
      "cell_type": "markdown",
      "id": "1c9ee747",
      "metadata": {
        "id": "1c9ee747"
      },
      "source": [
        "# 3º Query - Seleciona alguns campos de interesse"
      ]
    },
    {
      "cell_type": "code",
      "execution_count": null,
      "id": "f93cc865",
      "metadata": {
        "id": "f93cc865"
      },
      "outputs": [],
      "source": [
        "query3 = \"select day, time from tips\""
      ]
    },
    {
      "cell_type": "code",
      "execution_count": null,
      "id": "95704479",
      "metadata": {
        "id": "95704479"
      },
      "outputs": [],
      "source": [
        "sqldf(query3)"
      ]
    },
    {
      "cell_type": "markdown",
      "id": "cd0838e1",
      "metadata": {
        "id": "cd0838e1"
      },
      "source": [
        "# 4º Query - Seleciona alguns registros de interesse"
      ]
    },
    {
      "cell_type": "code",
      "execution_count": null,
      "id": "95dda7e4",
      "metadata": {
        "id": "95dda7e4"
      },
      "outputs": [],
      "source": [
        "query4 = \"select * from tips where day = 'Sun'\""
      ]
    },
    {
      "cell_type": "code",
      "execution_count": null,
      "id": "6b624bd7",
      "metadata": {
        "id": "6b624bd7"
      },
      "outputs": [],
      "source": [
        "sqldf(query4)"
      ]
    },
    {
      "cell_type": "markdown",
      "id": "cb0f129e",
      "metadata": {
        "id": "cb0f129e"
      },
      "source": [
        "# 5º Query - Identifica o valor da conta de menor valor"
      ]
    },
    {
      "cell_type": "code",
      "execution_count": null,
      "id": "1f598013",
      "metadata": {
        "id": "1f598013"
      },
      "outputs": [],
      "source": [
        "query5 = \"select min(total_bill) as menor_valor from tips order by total_bill\""
      ]
    },
    {
      "cell_type": "code",
      "execution_count": null,
      "id": "fbf28b8e",
      "metadata": {
        "id": "fbf28b8e"
      },
      "outputs": [],
      "source": [
        "sqldf(query5)"
      ]
    },
    {
      "cell_type": "markdown",
      "id": "073f8bac",
      "metadata": {
        "id": "073f8bac"
      },
      "source": [
        "# 6 Query - Identifica o valor da conta de maior valor"
      ]
    },
    {
      "cell_type": "code",
      "execution_count": null,
      "id": "38e79200",
      "metadata": {
        "id": "38e79200"
      },
      "outputs": [],
      "source": [
        "query6 = \"select max(total_bill) as maior_valor  from tips \""
      ]
    },
    {
      "cell_type": "code",
      "execution_count": null,
      "id": "bdf5372b",
      "metadata": {
        "id": "bdf5372b"
      },
      "outputs": [],
      "source": [
        "sqldf(query6)"
      ]
    },
    {
      "cell_type": "markdown",
      "id": "92b9efdd",
      "metadata": {
        "id": "92b9efdd"
      },
      "source": [
        "# 7º Query - Seleciona a conta de maior valor - LIMIT ou TOP"
      ]
    },
    {
      "cell_type": "code",
      "execution_count": null,
      "id": "3efa9f46",
      "metadata": {
        "id": "3efa9f46"
      },
      "outputs": [],
      "source": [
        "query7 = \"select * from tips order by total_bill desc limit 1\""
      ]
    },
    {
      "cell_type": "code",
      "execution_count": null,
      "id": "8610dcd2",
      "metadata": {
        "id": "8610dcd2"
      },
      "outputs": [],
      "source": [
        "sqldf(query7)"
      ]
    },
    {
      "cell_type": "markdown",
      "id": "47b5f2ae",
      "metadata": {
        "id": "47b5f2ae"
      },
      "source": [
        "# 8º Query - Seleciona a conta de maior valor - INNER JOIN"
      ]
    },
    {
      "cell_type": "code",
      "execution_count": null,
      "id": "eeb11897",
      "metadata": {
        "id": "eeb11897"
      },
      "outputs": [],
      "source": [
        "query8 = \"select a.*  from tips as a \\\n",
        "                    inner join \\\n",
        "                        ( \\\n",
        "                        select max(total_bill) as maior_conta from tips \\\n",
        "                        ) b \\\n",
        "                    on a.total_bill = b.maior_conta\""
      ]
    },
    {
      "cell_type": "code",
      "execution_count": null,
      "id": "92bae0e9",
      "metadata": {
        "id": "92bae0e9"
      },
      "outputs": [],
      "source": [
        "sqldf(query8)"
      ]
    },
    {
      "cell_type": "markdown",
      "id": "f82bb107",
      "metadata": {
        "id": "f82bb107"
      },
      "source": [
        "# 7º Query - Verifica o valor total que foi gasto e a relação entre gorjeta e a conta ordenando pelo maior valor de gorjeta (proporcional)"
      ]
    },
    {
      "cell_type": "code",
      "execution_count": 33,
      "id": "c16bbb54",
      "metadata": {
        "id": "c16bbb54"
      },
      "outputs": [],
      "source": [
        "query7 = \"select total_bill, tip, total_bill+tip, tip/total_bill as gorjeta_vs_conta from tips order by gorjeta_vs_conta desc\""
      ]
    },
    {
      "cell_type": "code",
      "execution_count": null,
      "id": "0ec76c67",
      "metadata": {
        "id": "0ec76c67"
      },
      "outputs": [],
      "source": [
        "sqldf(query7)"
      ]
    },
    {
      "cell_type": "markdown",
      "id": "72698323",
      "metadata": {
        "id": "72698323"
      },
      "source": [
        "# 8º Query - Calcular a quantidade de contas, somatória do valor da conta e valor médio das contas"
      ]
    },
    {
      "cell_type": "code",
      "execution_count": null,
      "id": "cb935989",
      "metadata": {
        "id": "cb935989"
      },
      "outputs": [],
      "source": [
        "query8 = \"select sum(total_bill) as somatorio_valor_total_conta, \\\n",
        "                 count(*) as qtd_contas, \\\n",
        "                 sum(total_bill)/count(*) as valor_media_contas \\\n",
        "          from tips\""
      ]
    },
    {
      "cell_type": "code",
      "execution_count": null,
      "id": "a1f3a4e6",
      "metadata": {
        "id": "a1f3a4e6"
      },
      "outputs": [],
      "source": [
        "sqldf(query8)"
      ]
    },
    {
      "cell_type": "markdown",
      "id": "91d2935e",
      "metadata": {
        "id": "91d2935e"
      },
      "source": [
        "# 9º Query - Calcular a quantidade de contas, somatória do valor da conta e valor médio das contas por sexo"
      ]
    },
    {
      "cell_type": "code",
      "execution_count": null,
      "id": "fc14a7e1",
      "metadata": {
        "id": "fc14a7e1"
      },
      "outputs": [],
      "source": [
        "query9 = \"select sex, \\\n",
        "                 sum(total_bill) as somatorio_valor_total_conta, \\\n",
        "                 count(*) as qtd_contas, \\\n",
        "                 sum(total_bill)/count(*) as valor_media_contas \\\n",
        "        from tips  \\\n",
        "        group by sex\""
      ]
    },
    {
      "cell_type": "markdown",
      "source": [
        "# Execução da 9ª Query em bloco "
      ],
      "metadata": {
        "id": "Q_w0PwNP_AbN"
      },
      "id": "Q_w0PwNP_AbN"
    },
    {
      "cell_type": "code",
      "source": [
        "\"\"\"query9 = select sex,\n",
        "                   sum(total_bill) as somatorio_valor_total_conta,\n",
        "                   count(*) as qtd_contas,\n",
        "                   sum(total_bill)/count(*) as valor_media_contas \n",
        "            from tips \n",
        "             group by sex\n",
        "             \"\"\""
      ],
      "metadata": {
        "id": "30PrW1hr9zQd"
      },
      "id": "30PrW1hr9zQd",
      "execution_count": null,
      "outputs": []
    },
    {
      "cell_type": "code",
      "execution_count": null,
      "id": "ed632f56",
      "metadata": {
        "id": "ed632f56"
      },
      "outputs": [],
      "source": [
        "sqldf(query9)"
      ]
    },
    {
      "cell_type": "markdown",
      "id": "0976ea1d",
      "metadata": {
        "id": "0976ea1d"
      },
      "source": [
        "# 10º Query - Calcular o valor médio das contas, a proporção da gorjeta por sexo e fumante"
      ]
    },
    {
      "cell_type": "code",
      "execution_count": 36,
      "id": "b6057264",
      "metadata": {
        "id": "b6057264"
      },
      "outputs": [],
      "source": [
        "query10 = \"select sex, smoker,\\\n",
        "                 avg(total_bill) as media_valor_total_conta, \\\n",
        "                 avg(tip/total_bill) as media_proposrcao_gorgeta_conta\\\n",
        "        from tips  \\\n",
        "        group by sex, smoker\""
      ]
    },
    {
      "cell_type": "code",
      "execution_count": 37,
      "id": "60237a00",
      "metadata": {
        "id": "60237a00",
        "outputId": "e585064d-be9b-4d6b-f13a-7ea68e7a8699",
        "colab": {
          "base_uri": "https://localhost:8080/",
          "height": 175
        }
      },
      "outputs": [
        {
          "output_type": "execute_result",
          "data": {
            "text/plain": [
              "      sex smoker  media_valor_total_conta  media_proposrcao_gorgeta_conta\n",
              "0  Female     No                18.105185                        0.156921\n",
              "1  Female    Yes                17.977879                        0.182150\n",
              "2    Male     No                19.791237                        0.160669\n",
              "3    Male    Yes                22.284500                        0.152771"
            ],
            "text/html": [
              "\n",
              "  <div id=\"df-f49f8afe-9b2b-4e9d-a93e-285e5c7266f8\">\n",
              "    <div class=\"colab-df-container\">\n",
              "      <div>\n",
              "<style scoped>\n",
              "    .dataframe tbody tr th:only-of-type {\n",
              "        vertical-align: middle;\n",
              "    }\n",
              "\n",
              "    .dataframe tbody tr th {\n",
              "        vertical-align: top;\n",
              "    }\n",
              "\n",
              "    .dataframe thead th {\n",
              "        text-align: right;\n",
              "    }\n",
              "</style>\n",
              "<table border=\"1\" class=\"dataframe\">\n",
              "  <thead>\n",
              "    <tr style=\"text-align: right;\">\n",
              "      <th></th>\n",
              "      <th>sex</th>\n",
              "      <th>smoker</th>\n",
              "      <th>media_valor_total_conta</th>\n",
              "      <th>media_proposrcao_gorgeta_conta</th>\n",
              "    </tr>\n",
              "  </thead>\n",
              "  <tbody>\n",
              "    <tr>\n",
              "      <th>0</th>\n",
              "      <td>Female</td>\n",
              "      <td>No</td>\n",
              "      <td>18.105185</td>\n",
              "      <td>0.156921</td>\n",
              "    </tr>\n",
              "    <tr>\n",
              "      <th>1</th>\n",
              "      <td>Female</td>\n",
              "      <td>Yes</td>\n",
              "      <td>17.977879</td>\n",
              "      <td>0.182150</td>\n",
              "    </tr>\n",
              "    <tr>\n",
              "      <th>2</th>\n",
              "      <td>Male</td>\n",
              "      <td>No</td>\n",
              "      <td>19.791237</td>\n",
              "      <td>0.160669</td>\n",
              "    </tr>\n",
              "    <tr>\n",
              "      <th>3</th>\n",
              "      <td>Male</td>\n",
              "      <td>Yes</td>\n",
              "      <td>22.284500</td>\n",
              "      <td>0.152771</td>\n",
              "    </tr>\n",
              "  </tbody>\n",
              "</table>\n",
              "</div>\n",
              "      <button class=\"colab-df-convert\" onclick=\"convertToInteractive('df-f49f8afe-9b2b-4e9d-a93e-285e5c7266f8')\"\n",
              "              title=\"Convert this dataframe to an interactive table.\"\n",
              "              style=\"display:none;\">\n",
              "        \n",
              "  <svg xmlns=\"http://www.w3.org/2000/svg\" height=\"24px\"viewBox=\"0 0 24 24\"\n",
              "       width=\"24px\">\n",
              "    <path d=\"M0 0h24v24H0V0z\" fill=\"none\"/>\n",
              "    <path d=\"M18.56 5.44l.94 2.06.94-2.06 2.06-.94-2.06-.94-.94-2.06-.94 2.06-2.06.94zm-11 1L8.5 8.5l.94-2.06 2.06-.94-2.06-.94L8.5 2.5l-.94 2.06-2.06.94zm10 10l.94 2.06.94-2.06 2.06-.94-2.06-.94-.94-2.06-.94 2.06-2.06.94z\"/><path d=\"M17.41 7.96l-1.37-1.37c-.4-.4-.92-.59-1.43-.59-.52 0-1.04.2-1.43.59L10.3 9.45l-7.72 7.72c-.78.78-.78 2.05 0 2.83L4 21.41c.39.39.9.59 1.41.59.51 0 1.02-.2 1.41-.59l7.78-7.78 2.81-2.81c.8-.78.8-2.07 0-2.86zM5.41 20L4 18.59l7.72-7.72 1.47 1.35L5.41 20z\"/>\n",
              "  </svg>\n",
              "      </button>\n",
              "      \n",
              "  <style>\n",
              "    .colab-df-container {\n",
              "      display:flex;\n",
              "      flex-wrap:wrap;\n",
              "      gap: 12px;\n",
              "    }\n",
              "\n",
              "    .colab-df-convert {\n",
              "      background-color: #E8F0FE;\n",
              "      border: none;\n",
              "      border-radius: 50%;\n",
              "      cursor: pointer;\n",
              "      display: none;\n",
              "      fill: #1967D2;\n",
              "      height: 32px;\n",
              "      padding: 0 0 0 0;\n",
              "      width: 32px;\n",
              "    }\n",
              "\n",
              "    .colab-df-convert:hover {\n",
              "      background-color: #E2EBFA;\n",
              "      box-shadow: 0px 1px 2px rgba(60, 64, 67, 0.3), 0px 1px 3px 1px rgba(60, 64, 67, 0.15);\n",
              "      fill: #174EA6;\n",
              "    }\n",
              "\n",
              "    [theme=dark] .colab-df-convert {\n",
              "      background-color: #3B4455;\n",
              "      fill: #D2E3FC;\n",
              "    }\n",
              "\n",
              "    [theme=dark] .colab-df-convert:hover {\n",
              "      background-color: #434B5C;\n",
              "      box-shadow: 0px 1px 3px 1px rgba(0, 0, 0, 0.15);\n",
              "      filter: drop-shadow(0px 1px 2px rgba(0, 0, 0, 0.3));\n",
              "      fill: #FFFFFF;\n",
              "    }\n",
              "  </style>\n",
              "\n",
              "      <script>\n",
              "        const buttonEl =\n",
              "          document.querySelector('#df-f49f8afe-9b2b-4e9d-a93e-285e5c7266f8 button.colab-df-convert');\n",
              "        buttonEl.style.display =\n",
              "          google.colab.kernel.accessAllowed ? 'block' : 'none';\n",
              "\n",
              "        async function convertToInteractive(key) {\n",
              "          const element = document.querySelector('#df-f49f8afe-9b2b-4e9d-a93e-285e5c7266f8');\n",
              "          const dataTable =\n",
              "            await google.colab.kernel.invokeFunction('convertToInteractive',\n",
              "                                                     [key], {});\n",
              "          if (!dataTable) return;\n",
              "\n",
              "          const docLinkHtml = 'Like what you see? Visit the ' +\n",
              "            '<a target=\"_blank\" href=https://colab.research.google.com/notebooks/data_table.ipynb>data table notebook</a>'\n",
              "            + ' to learn more about interactive tables.';\n",
              "          element.innerHTML = '';\n",
              "          dataTable['output_type'] = 'display_data';\n",
              "          await google.colab.output.renderOutput(dataTable, element);\n",
              "          const docLink = document.createElement('div');\n",
              "          docLink.innerHTML = docLinkHtml;\n",
              "          element.appendChild(docLink);\n",
              "        }\n",
              "      </script>\n",
              "    </div>\n",
              "  </div>\n",
              "  "
            ]
          },
          "metadata": {},
          "execution_count": 37
        }
      ],
      "source": [
        "sqldf(query10)"
      ]
    },
    {
      "cell_type": "markdown",
      "id": "37027e20",
      "metadata": {
        "id": "37027e20"
      },
      "source": [
        "# 11º Query - Calcular o valor médio das contas e a proporção da gorjeta por tamanho da mesa"
      ]
    },
    {
      "cell_type": "code",
      "execution_count": null,
      "id": "3d7ca896",
      "metadata": {
        "id": "3d7ca896"
      },
      "outputs": [],
      "source": [
        "query11 = \"select size,\\\n",
        "                 avg(total_bill) as media_valor_total_conta, \\\n",
        "                 avg(tip/total_bill) as media_proposrcao_gorgeta_conta\\\n",
        "        from tips  \\\n",
        "        group by size\""
      ]
    },
    {
      "cell_type": "code",
      "execution_count": null,
      "id": "49f8b94c",
      "metadata": {
        "id": "49f8b94c"
      },
      "outputs": [],
      "source": [
        "sqldf(query11)"
      ]
    },
    {
      "cell_type": "markdown",
      "id": "824dbdb7",
      "metadata": {
        "id": "824dbdb7"
      },
      "source": [
        "# 12º Query - Calcular o tamanho medio da mesa, valor médio da conta e proporção da gorjeta por dia e período"
      ]
    },
    {
      "cell_type": "code",
      "execution_count": 38,
      "id": "4949c85e",
      "metadata": {
        "id": "4949c85e"
      },
      "outputs": [],
      "source": [
        "query12 = \"select day, time, \\\n",
        "            avg(size) as tamanho_medio_mesa,\\\n",
        "            avg(total_bill) as media_valor_total_conta, \\\n",
        "            avg(tip/total_bill) as media_proposrcao_gorgeta_conta\\\n",
        "        from tips  \\\n",
        "        group by day, time\""
      ]
    },
    {
      "cell_type": "code",
      "execution_count": null,
      "id": "beec9c8a",
      "metadata": {
        "id": "beec9c8a"
      },
      "outputs": [],
      "source": [
        "sqldf(query12)"
      ]
    },
    {
      "cell_type": "markdown",
      "id": "73463538",
      "metadata": {
        "id": "73463538"
      },
      "source": [
        "# 13º Query - Comparação do valor da conta com a media do valor para o mesmo tipo de conta"
      ]
    },
    {
      "cell_type": "code",
      "execution_count": 42,
      "id": "da747c5d",
      "metadata": {
        "id": "da747c5d"
      },
      "outputs": [],
      "source": [
        "query14 = \"select a.*, b.media_valor_total_conta from tips a \\\n",
        "            left join \\\n",
        "                ( \\\n",
        "                select sex, smoker, day, time, size, \\\n",
        "                avg(total_bill) as media_valor_total_conta \\\n",
        "                from tips  \\\n",
        "                group by sex, smoker, day, time, size \\\n",
        "                ) b \\\n",
        "         on  a.sex = b.sex        and \\\n",
        "             a.smoker = b.smoker  and \\\n",
        "             a.day = b.day        and \\\n",
        "             a.time = b.time      and \\\n",
        "             a.size = b.size  \""
      ]
    },
    {
      "cell_type": "code",
      "execution_count": 43,
      "id": "2f314274",
      "metadata": {
        "id": "2f314274",
        "outputId": "8c8c2750-2dd9-4364-cc71-7bb4d29b2f7f",
        "colab": {
          "base_uri": "https://localhost:8080/",
          "height": 424
        }
      },
      "outputs": [
        {
          "output_type": "execute_result",
          "data": {
            "text/plain": [
              "     total_bill   tip     sex smoker   day    time  size  \\\n",
              "0         16.99  1.01  Female     No   Sun  Dinner     2   \n",
              "1         10.34  1.66    Male     No   Sun  Dinner     3   \n",
              "2         21.01  3.50    Male     No   Sun  Dinner     3   \n",
              "3         23.68  3.31    Male     No   Sun  Dinner     2   \n",
              "4         24.59  3.61  Female     No   Sun  Dinner     4   \n",
              "..          ...   ...     ...    ...   ...     ...   ...   \n",
              "239       29.03  5.92    Male     No   Sat  Dinner     3   \n",
              "240       27.18  2.00  Female    Yes   Sat  Dinner     2   \n",
              "241       22.67  2.00    Male    Yes   Sat  Dinner     2   \n",
              "242       17.82  1.75    Male     No   Sat  Dinner     2   \n",
              "243       18.78  3.00  Female     No  Thur  Dinner     2   \n",
              "\n",
              "     media_valor_total_conta  \n",
              "0                  14.562000  \n",
              "1                  22.291429  \n",
              "2                  22.291429  \n",
              "3                  15.887727  \n",
              "4                  29.915000  \n",
              "..                       ...  \n",
              "239                21.524444  \n",
              "240                18.029091  \n",
              "241                17.258235  \n",
              "242                14.787059  \n",
              "243                18.780000  \n",
              "\n",
              "[244 rows x 8 columns]"
            ],
            "text/html": [
              "\n",
              "  <div id=\"df-8452c002-9d57-49fc-aa39-4a406715d843\">\n",
              "    <div class=\"colab-df-container\">\n",
              "      <div>\n",
              "<style scoped>\n",
              "    .dataframe tbody tr th:only-of-type {\n",
              "        vertical-align: middle;\n",
              "    }\n",
              "\n",
              "    .dataframe tbody tr th {\n",
              "        vertical-align: top;\n",
              "    }\n",
              "\n",
              "    .dataframe thead th {\n",
              "        text-align: right;\n",
              "    }\n",
              "</style>\n",
              "<table border=\"1\" class=\"dataframe\">\n",
              "  <thead>\n",
              "    <tr style=\"text-align: right;\">\n",
              "      <th></th>\n",
              "      <th>total_bill</th>\n",
              "      <th>tip</th>\n",
              "      <th>sex</th>\n",
              "      <th>smoker</th>\n",
              "      <th>day</th>\n",
              "      <th>time</th>\n",
              "      <th>size</th>\n",
              "      <th>media_valor_total_conta</th>\n",
              "    </tr>\n",
              "  </thead>\n",
              "  <tbody>\n",
              "    <tr>\n",
              "      <th>0</th>\n",
              "      <td>16.99</td>\n",
              "      <td>1.01</td>\n",
              "      <td>Female</td>\n",
              "      <td>No</td>\n",
              "      <td>Sun</td>\n",
              "      <td>Dinner</td>\n",
              "      <td>2</td>\n",
              "      <td>14.562000</td>\n",
              "    </tr>\n",
              "    <tr>\n",
              "      <th>1</th>\n",
              "      <td>10.34</td>\n",
              "      <td>1.66</td>\n",
              "      <td>Male</td>\n",
              "      <td>No</td>\n",
              "      <td>Sun</td>\n",
              "      <td>Dinner</td>\n",
              "      <td>3</td>\n",
              "      <td>22.291429</td>\n",
              "    </tr>\n",
              "    <tr>\n",
              "      <th>2</th>\n",
              "      <td>21.01</td>\n",
              "      <td>3.50</td>\n",
              "      <td>Male</td>\n",
              "      <td>No</td>\n",
              "      <td>Sun</td>\n",
              "      <td>Dinner</td>\n",
              "      <td>3</td>\n",
              "      <td>22.291429</td>\n",
              "    </tr>\n",
              "    <tr>\n",
              "      <th>3</th>\n",
              "      <td>23.68</td>\n",
              "      <td>3.31</td>\n",
              "      <td>Male</td>\n",
              "      <td>No</td>\n",
              "      <td>Sun</td>\n",
              "      <td>Dinner</td>\n",
              "      <td>2</td>\n",
              "      <td>15.887727</td>\n",
              "    </tr>\n",
              "    <tr>\n",
              "      <th>4</th>\n",
              "      <td>24.59</td>\n",
              "      <td>3.61</td>\n",
              "      <td>Female</td>\n",
              "      <td>No</td>\n",
              "      <td>Sun</td>\n",
              "      <td>Dinner</td>\n",
              "      <td>4</td>\n",
              "      <td>29.915000</td>\n",
              "    </tr>\n",
              "    <tr>\n",
              "      <th>...</th>\n",
              "      <td>...</td>\n",
              "      <td>...</td>\n",
              "      <td>...</td>\n",
              "      <td>...</td>\n",
              "      <td>...</td>\n",
              "      <td>...</td>\n",
              "      <td>...</td>\n",
              "      <td>...</td>\n",
              "    </tr>\n",
              "    <tr>\n",
              "      <th>239</th>\n",
              "      <td>29.03</td>\n",
              "      <td>5.92</td>\n",
              "      <td>Male</td>\n",
              "      <td>No</td>\n",
              "      <td>Sat</td>\n",
              "      <td>Dinner</td>\n",
              "      <td>3</td>\n",
              "      <td>21.524444</td>\n",
              "    </tr>\n",
              "    <tr>\n",
              "      <th>240</th>\n",
              "      <td>27.18</td>\n",
              "      <td>2.00</td>\n",
              "      <td>Female</td>\n",
              "      <td>Yes</td>\n",
              "      <td>Sat</td>\n",
              "      <td>Dinner</td>\n",
              "      <td>2</td>\n",
              "      <td>18.029091</td>\n",
              "    </tr>\n",
              "    <tr>\n",
              "      <th>241</th>\n",
              "      <td>22.67</td>\n",
              "      <td>2.00</td>\n",
              "      <td>Male</td>\n",
              "      <td>Yes</td>\n",
              "      <td>Sat</td>\n",
              "      <td>Dinner</td>\n",
              "      <td>2</td>\n",
              "      <td>17.258235</td>\n",
              "    </tr>\n",
              "    <tr>\n",
              "      <th>242</th>\n",
              "      <td>17.82</td>\n",
              "      <td>1.75</td>\n",
              "      <td>Male</td>\n",
              "      <td>No</td>\n",
              "      <td>Sat</td>\n",
              "      <td>Dinner</td>\n",
              "      <td>2</td>\n",
              "      <td>14.787059</td>\n",
              "    </tr>\n",
              "    <tr>\n",
              "      <th>243</th>\n",
              "      <td>18.78</td>\n",
              "      <td>3.00</td>\n",
              "      <td>Female</td>\n",
              "      <td>No</td>\n",
              "      <td>Thur</td>\n",
              "      <td>Dinner</td>\n",
              "      <td>2</td>\n",
              "      <td>18.780000</td>\n",
              "    </tr>\n",
              "  </tbody>\n",
              "</table>\n",
              "<p>244 rows × 8 columns</p>\n",
              "</div>\n",
              "      <button class=\"colab-df-convert\" onclick=\"convertToInteractive('df-8452c002-9d57-49fc-aa39-4a406715d843')\"\n",
              "              title=\"Convert this dataframe to an interactive table.\"\n",
              "              style=\"display:none;\">\n",
              "        \n",
              "  <svg xmlns=\"http://www.w3.org/2000/svg\" height=\"24px\"viewBox=\"0 0 24 24\"\n",
              "       width=\"24px\">\n",
              "    <path d=\"M0 0h24v24H0V0z\" fill=\"none\"/>\n",
              "    <path d=\"M18.56 5.44l.94 2.06.94-2.06 2.06-.94-2.06-.94-.94-2.06-.94 2.06-2.06.94zm-11 1L8.5 8.5l.94-2.06 2.06-.94-2.06-.94L8.5 2.5l-.94 2.06-2.06.94zm10 10l.94 2.06.94-2.06 2.06-.94-2.06-.94-.94-2.06-.94 2.06-2.06.94z\"/><path d=\"M17.41 7.96l-1.37-1.37c-.4-.4-.92-.59-1.43-.59-.52 0-1.04.2-1.43.59L10.3 9.45l-7.72 7.72c-.78.78-.78 2.05 0 2.83L4 21.41c.39.39.9.59 1.41.59.51 0 1.02-.2 1.41-.59l7.78-7.78 2.81-2.81c.8-.78.8-2.07 0-2.86zM5.41 20L4 18.59l7.72-7.72 1.47 1.35L5.41 20z\"/>\n",
              "  </svg>\n",
              "      </button>\n",
              "      \n",
              "  <style>\n",
              "    .colab-df-container {\n",
              "      display:flex;\n",
              "      flex-wrap:wrap;\n",
              "      gap: 12px;\n",
              "    }\n",
              "\n",
              "    .colab-df-convert {\n",
              "      background-color: #E8F0FE;\n",
              "      border: none;\n",
              "      border-radius: 50%;\n",
              "      cursor: pointer;\n",
              "      display: none;\n",
              "      fill: #1967D2;\n",
              "      height: 32px;\n",
              "      padding: 0 0 0 0;\n",
              "      width: 32px;\n",
              "    }\n",
              "\n",
              "    .colab-df-convert:hover {\n",
              "      background-color: #E2EBFA;\n",
              "      box-shadow: 0px 1px 2px rgba(60, 64, 67, 0.3), 0px 1px 3px 1px rgba(60, 64, 67, 0.15);\n",
              "      fill: #174EA6;\n",
              "    }\n",
              "\n",
              "    [theme=dark] .colab-df-convert {\n",
              "      background-color: #3B4455;\n",
              "      fill: #D2E3FC;\n",
              "    }\n",
              "\n",
              "    [theme=dark] .colab-df-convert:hover {\n",
              "      background-color: #434B5C;\n",
              "      box-shadow: 0px 1px 3px 1px rgba(0, 0, 0, 0.15);\n",
              "      filter: drop-shadow(0px 1px 2px rgba(0, 0, 0, 0.3));\n",
              "      fill: #FFFFFF;\n",
              "    }\n",
              "  </style>\n",
              "\n",
              "      <script>\n",
              "        const buttonEl =\n",
              "          document.querySelector('#df-8452c002-9d57-49fc-aa39-4a406715d843 button.colab-df-convert');\n",
              "        buttonEl.style.display =\n",
              "          google.colab.kernel.accessAllowed ? 'block' : 'none';\n",
              "\n",
              "        async function convertToInteractive(key) {\n",
              "          const element = document.querySelector('#df-8452c002-9d57-49fc-aa39-4a406715d843');\n",
              "          const dataTable =\n",
              "            await google.colab.kernel.invokeFunction('convertToInteractive',\n",
              "                                                     [key], {});\n",
              "          if (!dataTable) return;\n",
              "\n",
              "          const docLinkHtml = 'Like what you see? Visit the ' +\n",
              "            '<a target=\"_blank\" href=https://colab.research.google.com/notebooks/data_table.ipynb>data table notebook</a>'\n",
              "            + ' to learn more about interactive tables.';\n",
              "          element.innerHTML = '';\n",
              "          dataTable['output_type'] = 'display_data';\n",
              "          await google.colab.output.renderOutput(dataTable, element);\n",
              "          const docLink = document.createElement('div');\n",
              "          docLink.innerHTML = docLinkHtml;\n",
              "          element.appendChild(docLink);\n",
              "        }\n",
              "      </script>\n",
              "    </div>\n",
              "  </div>\n",
              "  "
            ]
          },
          "metadata": {},
          "execution_count": 43
        }
      ],
      "source": [
        "sqldf(query14)"
      ]
    },
    {
      "cell_type": "markdown",
      "id": "6efa7822",
      "metadata": {
        "id": "6efa7822"
      },
      "source": [
        "# 14º Query - Verificando a quantidade e selecionando as contas com valor total da conta menor do que 10"
      ]
    },
    {
      "cell_type": "code",
      "execution_count": null,
      "id": "6533f134",
      "metadata": {
        "id": "6533f134"
      },
      "outputs": [],
      "source": [
        "query16a = \"select count(*) from tips where total_bill < 10\""
      ]
    },
    {
      "cell_type": "code",
      "execution_count": null,
      "id": "7dfe6b30",
      "metadata": {
        "id": "7dfe6b30"
      },
      "outputs": [],
      "source": [
        "sqldf(query16a)"
      ]
    },
    {
      "cell_type": "code",
      "execution_count": null,
      "id": "8969fb45",
      "metadata": {
        "id": "8969fb45"
      },
      "outputs": [],
      "source": [
        "query16b = \"select * from tips  where total_bill < 10\""
      ]
    },
    {
      "cell_type": "code",
      "execution_count": null,
      "id": "888258af",
      "metadata": {
        "id": "888258af"
      },
      "outputs": [],
      "source": [
        "sqldf(query16b)"
      ]
    },
    {
      "cell_type": "markdown",
      "id": "b43b3ddb",
      "metadata": {
        "id": "b43b3ddb"
      },
      "source": [
        "# 15º Query - Verificando os tipos de contas que juntas ficaram com valor total menor do que 10"
      ]
    },
    {
      "cell_type": "code",
      "execution_count": null,
      "id": "c529c266",
      "metadata": {
        "id": "c529c266"
      },
      "outputs": [],
      "source": [
        "query17 = \"select sex, smoker, day, time, size, \\\n",
        "                count(*) as qtd_contas, \\\n",
        "                sum(total_bill) as total_conta \\\n",
        "            from tips  \\\n",
        "            group by sex, smoker, day, time, size \\\n",
        "            having total_conta < 10\""
      ]
    },
    {
      "cell_type": "code",
      "execution_count": null,
      "id": "c6661ecb",
      "metadata": {
        "id": "c6661ecb"
      },
      "outputs": [],
      "source": [
        "sqldf(query17)"
      ]
    },
    {
      "cell_type": "markdown",
      "source": [
        "# 1ª Plotagem - Faixa de confiança"
      ],
      "metadata": {
        "id": "OTou6Fuo-Rzs"
      },
      "id": "OTou6Fuo-Rzs"
    },
    {
      "cell_type": "code",
      "source": [
        "N = 21\n",
        "x = np.linspace(0, 10, 11)\n",
        "y = [3.9, 4.4, 10.8, 10.3, 11.2, 13.1, 14.1,  9.9, 13.9, 15.1, 12.5]\n",
        "\n",
        "# ajustar uma curva linear e estimar seus valores de y e seu erro\n",
        "a, b = np.polyfit(x, y, deg=1)\n",
        "y_est = a * x + b\n",
        "y_err = x.std() * np.sqrt(1/len(x) +\n",
        "                          (x - x.mean())**2 / np.sum((x - x.mean())**2))\n",
        "\n",
        "fig, ax = plt.subplots()\n",
        "ax.plot(x, y_est, '-')\n",
        "ax.fill_between(x, y_est - y_err, y_est + y_err, alpha=0.2)\n",
        "ax.plot(x, y, 'o', color='tab:brown')"
      ],
      "metadata": {
        "id": "xTjnWLxb9PAx",
        "outputId": "92997bd5-5e78-4afa-ee0c-6f36d020e6ea",
        "colab": {
          "base_uri": "https://localhost:8080/",
          "height": 282
        }
      },
      "id": "xTjnWLxb9PAx",
      "execution_count": 10,
      "outputs": [
        {
          "output_type": "execute_result",
          "data": {
            "text/plain": [
              "[<matplotlib.lines.Line2D at 0x7fbb4af68490>]"
            ]
          },
          "metadata": {},
          "execution_count": 10
        },
        {
          "output_type": "display_data",
          "data": {
            "text/plain": [
              "<Figure size 432x288 with 1 Axes>"
            ],
            "image/png": "[encoded data removed]"
          },
          "metadata": {
            "needs_background": "light"
          }
        }
      ]
    },
    {
      "cell_type": "markdown",
      "source": [
        "# 2ª Plotagem - Gráficos de dispersão com uma legenda"
      ],
      "metadata": {
        "id": "ushIl5C7-Lo7"
      },
      "id": "ushIl5C7-Lo7"
    },
    {
      "cell_type": "code",
      "source": [
        "volume = np.random.rayleigh(27, size=40)\n",
        "amount = np.random.poisson(10, size=40)\n",
        "ranking = np.random.normal(size=40)\n",
        "price = np.random.uniform(1, 10, size=40)\n",
        "\n",
        "fig, ax = plt.subplots()\n",
        "\n",
        "# Porque o preço é muito pequeno ao ser fornecido como tamanho para ``s``, normalizado para alguns tamanhos de pontos úteis, s=0.3*(price*3)**2\n",
        "scatter = ax.scatter(volume, amount, c=ranking, s=0.3*(price*3)**2,\n",
        "                     vmin=-3, vmax=3, cmap=\"Spectral\")\n",
        "\n",
        "# Produz uma legenda para o ranking (cores). Embora existam 40 diferentes rankings, queremos mostrar apenas 5 deles na legenda.\n",
        "legend1 = ax.legend(*scatter.legend_elements(num=5),\n",
        "                    loc=\"upper left\", title=\"Ranking\")\n",
        "ax.add_artist(legend1)\n",
        "\n",
        "kw = dict(prop=\"sizes\", num=5, color=scatter.cmap(0.7), fmt=\"$ {x:.2f}\",\n",
        "          func=lambda s: np.sqrt(s/.3)/3)\n",
        "legend2 = ax.legend(*scatter.legend_elements(**kw),\n",
        "                    loc=\"lower right\", title=\"Price\")\n",
        "\n",
        "plt.show()"
      ],
      "metadata": {
        "id": "gaEcrciu9uKN",
        "outputId": "0277705e-0e14-413b-a2cf-9e6bea3d054d",
        "colab": {
          "base_uri": "https://localhost:8080/",
          "height": 265
        }
      },
      "id": "gaEcrciu9uKN",
      "execution_count": 12,
      "outputs": [
        {
          "output_type": "display_data",
          "data": {
            "text/plain": [
              "<Figure size 432x288 with 1 Axes>"
            ],
            "image/png": "[encoded data removed]"
          },
          "metadata": {
            "needs_background": "light"
          }
        }
      ]
    },
    {
      "cell_type": "markdown",
      "source": [
        "# 3ª Plotagem - Gráfico de pizza"
      ],
      "metadata": {
        "id": "ux4R9d94-uJH"
      },
      "id": "ux4R9d94-uJH"
    },
    {
      "cell_type": "code",
      "source": [
        "# Gráfico de pizza, onde as fatias serão ordenadas e plotadas no sentido anti-horário:\n",
        "rótulos = 'Sapos', 'Porcos', 'Cães', 'Cavalos'\n",
        "labels = 'Sapos', 'Porcos', 'Cães', 'Cavalos'\n",
        "sizes = [15, 30, 45, 10]\n",
        "explode = (0, 0.1, 0, 0)  # only \"explode\" the 2nd slice (i.e. 'Hogs')\n",
        "\n",
        "fig1, ax1 = plt.subplots()\n",
        "ax1.pie(sizes, explode=explode, labels=labels, autopct='%1.1f%%',\n",
        "        shadow=True, startangle=90)\n",
        "ax1.axis('equal')  #Equal aspect ratio garante que a pizza seja desenhada como um círculo.\n",
        "\n",
        "plt.show()"
      ],
      "metadata": {
        "id": "XKC6IOPO-dGR",
        "outputId": "d1f30fab-121f-41b3-c4db-568766065ecb",
        "colab": {
          "base_uri": "https://localhost:8080/",
          "height": 248
        }
      },
      "id": "XKC6IOPO-dGR",
      "execution_count": 46,
      "outputs": [
        {
          "output_type": "display_data",
          "data": {
            "text/plain": [
              "<Figure size 432x288 with 1 Axes>"
            ],
            "image/png": "[encoded data removed]"
          },
          "metadata": {}
        }
      ]
    },
    {
      "cell_type": "markdown",
      "id": "31935930",
      "metadata": {
        "id": "31935930"
      },
      "source": [
        "# Referências"
      ]
    },
    {
      "cell_type": "markdown",
      "id": "b2eb4f7e",
      "metadata": {
        "id": "b2eb4f7e"
      },
      "source": [
        "https://www.tutorialspoint.com/sqlite/sqlite_having_clause.htm \\\n",
        "https://www.w3schools.com/sql/default.asp \\\n",
        "https://towardsdatascience.com/anomaly-detection-in-sql-2bcd8648f7a8 \\\n",
        "https://towardsdatascience.com/10-sql-operations-for-80-of-your-data-manipulation-7461c56e25f4 \\\n",
        "https://medium.com/codex/write-your-sql-queries-the-right-way-9c04dfbb6499 \\\n",
        "https://towardsdatascience.com/uber-sql-interview-questions-cf6a2a08a23c \n"
      ]
    }
  ],
  "metadata": {
    "kernelspec": {
      "display_name": "Python 3 (ipykernel)",
      "language": "python",
      "name": "python3"
    },
    "language_info": {
      "codemirror_mode": {
        "name": "ipython",
        "version": 3
      },
      "file_extension": ".py",
      "mimetype": "text/x-python",
      "name": "python",
      "nbconvert_exporter": "python",
      "pygments_lexer": "ipython3",
      "version": "3.9.12"
    },
    "colab": {
      "name": "Exercicio_SQL.ipynb",
      "provenance": []
    }
  },
  "nbformat": 4,
  "nbformat_minor": 5
}